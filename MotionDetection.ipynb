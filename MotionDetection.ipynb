{
 "cells": [
  {
   "cell_type": "code",
   "execution_count": 1,
   "metadata": {},
   "outputs": [],
   "source": [
    "import cv2,time"
   ]
  },
  {
   "cell_type": "code",
   "execution_count": 2,
   "metadata": {},
   "outputs": [],
   "source": [
    "import pandas as pd\n",
    "from datetime import datetime"
   ]
  },
  {
   "cell_type": "code",
   "execution_count": 3,
   "metadata": {},
   "outputs": [],
   "source": [
    "static_back = None\n",
    "motion_list = [None,None]\n",
    "time = []"
   ]
  },
  {
   "cell_type": "code",
   "execution_count": 4,
   "metadata": {},
   "outputs": [],
   "source": [
    "df = pd.DataFrame(columns=['Start','End'])"
   ]
  },
  {
   "cell_type": "code",
   "execution_count": 5,
   "metadata": {},
   "outputs": [],
   "source": [
    "video = cv2.VideoCapture(0)"
   ]
  },
  {
   "cell_type": "code",
   "execution_count": null,
   "metadata": {},
   "outputs": [],
   "source": [
    "\n",
    "while True: \n",
    "\t# Reading frame(image) from video \n",
    "    check, frame = video.read() \n",
    "\n",
    "\t# Initializing motion = 0(no motion) \n",
    "    motion = 0\n",
    "\n",
    "\t# Converting color image to gray_scale image \n",
    "    gray = cv2.cvtColor(frame, cv2.COLOR_BGR2GRAY) \n",
    "\n",
    "\t# Converting gray scale image to GaussianBlur \n",
    "\t# so that change can be find easily \n",
    "    gray = cv2.GaussianBlur(gray, (21, 21), 0) \n",
    "\n",
    "\t# In first iteration we assign the value \n",
    "\t# of static_back to our first frame \n",
    "    if static_back is None: \n",
    "        static_back = gray \n",
    "        continue\n",
    "\n",
    "\t# Difference between static background \n",
    "\t# and current frame(which is GaussianBlur) \n",
    "    diff_frame = cv2.absdiff(static_back, gray) \n",
    "\n",
    "\t# If change in between static background and \n",
    "\t# current frame is greater than 30 it will show white color(255) \n",
    "    thresh_frame = cv2.threshold(diff_frame, 30, 255, cv2.THRESH_BINARY)[1] \n",
    "    thresh_frame = cv2.dilate(thresh_frame, None, iterations = 2) \n",
    "\n",
    "\t# Finding contour of moving object \n",
    "    (_, cnts, _) = cv2.findContours(thresh_frame.copy(), \n",
    "                    cv2.RETR_EXTERNAL, cv2.CHAIN_APPROX_SIMPLE) \n",
    "\n",
    "    for contour in cnts: \n",
    "        if cv2.contourArea(contour) < 10000: \n",
    "            continue\n",
    "        motion = 1\n",
    "\n",
    "        (x, y, w, h) = cv2.boundingRect(contour) \n",
    "\t\t# making green rectangle arround the moving object \n",
    "        cv2.rectangle(frame, (x, y), (x + w, y + h), (0, 255, 0), 3) \n",
    "\n",
    "\t# Appending status of motion \n",
    "    motion_list.append(motion) \n",
    "\n",
    "    motion_list = motion_list[-2:] \n",
    "\n",
    "\t# Appending Start time of motion \n",
    "    if motion_list[-1] == 1 and motion_list[-2] == 0: \n",
    "        time.append(datetime.now()) \n",
    "\n",
    "\t# Appending End time of motion \n",
    "    if motion_list[-1] == 0 and motion_list[-2] == 1: \n",
    "        time.append(datetime.now()) \n",
    "\n",
    "\t# Displaying image in gray_scale \n",
    "    cv2.imshow(\"Gray Frame\", gray) \n",
    "\n",
    "\t# Displaying the difference in currentframe to \n",
    "\t# the staticframe(very first_frame) \n",
    "    cv2.imshow(\"Difference Frame\", diff_frame) \n",
    "\n",
    "\t# Displaying the black and white image in which if \n",
    "\t# intencity difference greater than 30 it will appear white \n",
    "    cv2.imshow(\"Threshold Frame\", thresh_frame) \n",
    "\n",
    "\t# Displaying color frame with contour of motion of object \n",
    "    cv2.imshow(\"Color Frame\", frame) \n",
    "\n",
    "    key = cv2.waitKey(1) \n",
    "\t# if q entered whole process will stop \n",
    "    if key == ord('q'): \n",
    "\t\t# if something is movingthen it append the end time of movement \n",
    "        if motion == 1: \n",
    "            time.append(datetime.now()) \n",
    "        break\n",
    "\n",
    "# Appending time of motion in DataFrame \n",
    "for i in range(0, len(time), 2): \n",
    "    df = df.append({\"Start\":time[i], \"End\":time[i + 1]}, ignore_index = True) \n",
    "\n",
    "# Creating a csv file in which time of movements will be saved \n",
    "df.to_csv(\"Time_of_movements.csv\") \n",
    "\n",
    "video.release() \n",
    "\n",
    "# Destroying all the windows \n",
    "cv2.destroyAllWindows() \n"
   ]
  },
  {
   "cell_type": "code",
   "execution_count": null,
   "metadata": {},
   "outputs": [],
   "source": []
  }
 ],
 "metadata": {
  "kernelspec": {
   "display_name": "Python 3",
   "language": "python",
   "name": "python3"
  },
  "language_info": {
   "codemirror_mode": {
    "name": "ipython",
    "version": 3
   },
   "file_extension": ".py",
   "mimetype": "text/x-python",
   "name": "python",
   "nbconvert_exporter": "python",
   "pygments_lexer": "ipython3",
   "version": "3.6.5"
  }
 },
 "nbformat": 4,
 "nbformat_minor": 2
}
