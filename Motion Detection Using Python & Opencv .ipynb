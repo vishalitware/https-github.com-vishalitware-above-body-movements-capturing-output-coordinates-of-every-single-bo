{
 "cells": [
  {
   "cell_type": "code",
   "execution_count": null,
   "metadata": {},
   "outputs": [],
   "source": [
    "import cv2\n",
    "import numpy as np\n",
    "def main():\n",
    "   #window_name=\"Cam feed\"\n",
    "   #cv2.namedWindow(window_name)\n",
    "   cap=cv2.VideoCapture(0)\n",
    "\n",
    "   #filename = 'F:\\sample.avi'\n",
    "   #codec=cv2.VideoWriter_fourcc('X','V','I','D')\n",
    "   #framerate=30\n",
    "   #resolution = (500,500)\n",
    "\n",
    " #  VideoFileOutput = cv2.VideoWriter(filename,codec,framerate,resolution)\n",
    "\n",
    "   \n",
    "   if cap.isOpened():\n",
    "      \n",
    "      ret,frame = cap.read()\n",
    "\n",
    "   else:\n",
    "      ret =False\n",
    "\n",
    "   ret,frame1 = cap.read()\n",
    "   ret,frame2 = cap.read()\n",
    "\n",
    "   while ret:\n",
    "      ret,frame = cap.read()\n",
    "      #VideoFileOutput.write(frame)\n",
    "\n",
    "      d=cv2.absdiff(frame1,frame2)\n",
    "\n",
    "      grey=cv2.cvtColor(d,cv2.COLOR_BGR2GRAY)\n",
    "\n",
    "      blur =cv2.GaussianBlur(grey,(5,5),0)\n",
    "      ret,th=cv2.threshold(blur,20,255,cv2.THRESH_BINARY)\n",
    "      dilated=cv2.dilate(th,np.ones((3,3),np.uint8),iterations=3)\n",
    "      img,c,h=cv2.findContours(dilated,cv2.RETR_TREE,cv2.CHAIN_APPROX_SIMPLE)\n",
    "      \n",
    "      cv2.drawContours(frame1,c,-1,(0,255,0),2)\n",
    "\n",
    "      #cv2.imshow(\"win1\",frame2)\n",
    "      cv2.imshow(\"inter\",frame1)\n",
    "      \n",
    "      if cv2.waitKey(40) == 27:\n",
    "         break\n",
    "      frame1 = frame2\n",
    "      ret,frame2= cap.read()\n",
    "   cv2.destroyAllWindows()\n",
    "   #VideoFileOutput.release()\n",
    "   cap.release()\n",
    "main()   \n",
    "    "
   ]
  },
  {
   "cell_type": "code",
   "execution_count": null,
   "metadata": {},
   "outputs": [],
   "source": []
  }
 ],
 "metadata": {
  "kernelspec": {
   "display_name": "Python 3",
   "language": "python",
   "name": "python3"
  },
  "language_info": {
   "codemirror_mode": {
    "name": "ipython",
    "version": 3
   },
   "file_extension": ".py",
   "mimetype": "text/x-python",
   "name": "python",
   "nbconvert_exporter": "python",
   "pygments_lexer": "ipython3",
   "version": "3.6.5"
  }
 },
 "nbformat": 4,
 "nbformat_minor": 2
}
